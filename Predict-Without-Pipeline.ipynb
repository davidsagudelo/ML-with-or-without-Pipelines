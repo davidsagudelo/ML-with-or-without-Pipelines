{
 "cells": [
  {
   "cell_type": "markdown",
   "metadata": {},
   "source": [
    "## Making Predictions"
   ]
  },
  {
   "cell_type": "code",
   "execution_count": 1,
   "metadata": {},
   "outputs": [],
   "source": [
    "import pickle\n",
    "import numpy as np\n",
    "\n",
    "import warnings\n",
    "warnings.filterwarnings('ignore')"
   ]
  },
  {
   "cell_type": "code",
   "execution_count": 2,
   "metadata": {},
   "outputs": [],
   "source": [
    "# Load the encoder objects\n",
    "eGender = pickle.load(open('pickle/eGender.pkl','rb'))\n",
    "eMarried = pickle.load(open('pickle/eMarried.pkl','rb'))\n",
    "eDependents = pickle.load(open('pickle/eDependents.pkl','rb'))\n",
    "eEducation = pickle.load(open('pickle/eEducation.pkl','rb'))\n",
    "eSelf_Employed = pickle.load(open('pickle/eSelf_Employed.pkl','rb'))\n",
    "eProperty_Area = pickle.load(open('pickle/eProperty_Area.pkl','rb'))\n",
    "\n",
    "# load the model\n",
    "dt = pickle.load(open('Pickle/dt.pkl','rb'))"
   ]
  },
  {
   "cell_type": "code",
   "execution_count": 3,
   "metadata": {},
   "outputs": [],
   "source": [
    "# Sample input data from xtrain\n",
    "# Gender-Married-Dependents-Education-Self_Employed-ApplicantIncome-CoapplicantIncome-LoanAmount-Loan_Amount_Term-Credit_History-Property_Area\n",
    "test = np.array(['Male','No',0,'Not Graduate','No',6216,0.0,133.0,360.0,1.0,'Rural'], dtype=object).reshape(1,11)"
   ]
  },
  {
   "cell_type": "code",
   "execution_count": 4,
   "metadata": {},
   "outputs": [
    {
     "data": {
      "text/plain": [
       "array([['Male', 'No', 0, 'Not Graduate', 'No', 6216, 0.0, 133.0, 360.0,\n",
       "        1.0, 'Rural']], dtype=object)"
      ]
     },
     "execution_count": 4,
     "metadata": {},
     "output_type": "execute_result"
    }
   ],
   "source": [
    "test"
   ]
  },
  {
   "cell_type": "code",
   "execution_count": 5,
   "metadata": {},
   "outputs": [],
   "source": [
    "# encode the input using imported encoder objects.\n",
    "# Here we will not pass any null values so we don't have to worry about Imputers\n",
    "test_Gender = eGender.transform(test[:,0].reshape(1,1))\n",
    "test_married = eMarried.transform(test[:,1].reshape(1,1))\n",
    "test_Dependants = eDependents.transform(test[:,2].reshape(1,1))\n",
    "test_Education = eEducation.transform(test[:,3].reshape(1,1))\n",
    "test_Self_Employed = eSelf_Employed.transform(test[:,4].reshape(1,1))\n",
    "test_Property_Area = eProperty_Area.transform(test[:,10].reshape(1,1))"
   ]
  },
  {
   "cell_type": "markdown",
   "metadata": {},
   "source": [
    "#### Now combine all of them"
   ]
  },
  {
   "cell_type": "code",
   "execution_count": 6,
   "metadata": {},
   "outputs": [],
   "source": [
    "test_transformed = np.concatenate((test[:,[5,6,7,8,9]],test_Gender,test_married,test_Dependants,\n",
    "                                   test_Education, test_Self_Employed,test_Property_Area),axis=1)"
   ]
  },
  {
   "cell_type": "code",
   "execution_count": 7,
   "metadata": {},
   "outputs": [
    {
     "data": {
      "text/plain": [
       "20"
      ]
     },
     "execution_count": 7,
     "metadata": {},
     "output_type": "execute_result"
    }
   ],
   "source": [
    "# check ho many features the model takes as input\n",
    "dt.n_features_in_"
   ]
  },
  {
   "cell_type": "code",
   "execution_count": 8,
   "metadata": {},
   "outputs": [
    {
     "data": {
      "text/plain": [
       "(1, 20)"
      ]
     },
     "execution_count": 8,
     "metadata": {},
     "output_type": "execute_result"
    }
   ],
   "source": [
    "# check the shape of the test_transformed input. Columns should be equal to dt.n_features_in_\n",
    "test_transformed.shape"
   ]
  },
  {
   "cell_type": "code",
   "execution_count": 9,
   "metadata": {},
   "outputs": [
    {
     "data": {
      "text/plain": [
       "array(['N'], dtype=object)"
      ]
     },
     "execution_count": 9,
     "metadata": {},
     "output_type": "execute_result"
    }
   ],
   "source": [
    "# Make a prediction using the decision tree model\n",
    "dt.predict(test_transformed)"
   ]
  },
  {
   "cell_type": "markdown",
   "metadata": {},
   "source": [
    "### Conclusion - The model predicts 'No' - i.e. Loan will not be approved.\n"
   ]
  }
 ],
 "metadata": {
  "kernelspec": {
   "display_name": "Python 3 (ipykernel)",
   "language": "python",
   "name": "python3"
  },
  "language_info": {
   "codemirror_mode": {
    "name": "ipython",
    "version": 3
   },
   "file_extension": ".py",
   "mimetype": "text/x-python",
   "name": "python",
   "nbconvert_exporter": "python",
   "pygments_lexer": "ipython3",
   "version": "3.10.9"
  }
 },
 "nbformat": 4,
 "nbformat_minor": 4
}
